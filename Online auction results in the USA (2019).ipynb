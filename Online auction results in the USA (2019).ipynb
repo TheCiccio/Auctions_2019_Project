{
 "cells": [
  {
   "cell_type": "code",
   "execution_count": 1,
   "id": "7463ca65",
   "metadata": {},
   "outputs": [],
   "source": [
    "import pandas as pd\n",
    "import csv\n",
    "from scipy.stats import norm\n",
    "import statistics\n",
    "%matplotlib inline\n",
    "import sklearn\n",
    "import numpy as np\n",
    "from matplotlib import pyplot as plt"
   ]
  },
  {
   "cell_type": "code",
   "execution_count": 2,
   "id": "916fd64a",
   "metadata": {},
   "outputs": [
    {
     "data": {
      "text/html": [
       "<div>\n",
       "<style scoped>\n",
       "    .dataframe tbody tr th:only-of-type {\n",
       "        vertical-align: middle;\n",
       "    }\n",
       "\n",
       "    .dataframe tbody tr th {\n",
       "        vertical-align: top;\n",
       "    }\n",
       "\n",
       "    .dataframe thead th {\n",
       "        text-align: right;\n",
       "    }\n",
       "</style>\n",
       "<table border=\"1\" class=\"dataframe\">\n",
       "  <thead>\n",
       "    <tr style=\"text-align: right;\">\n",
       "      <th></th>\n",
       "      <th>auction_id</th>\n",
       "      <th>RoR</th>\n",
       "      <th>STR</th>\n",
       "      <th>BPL</th>\n",
       "      <th>lots</th>\n",
       "      <th>product_types</th>\n",
       "      <th>avg_start_bid</th>\n",
       "      <th>avg_reserve</th>\n",
       "      <th>auction_mech</th>\n",
       "      <th>state</th>\n",
       "    </tr>\n",
       "  </thead>\n",
       "  <tbody>\n",
       "    <tr>\n",
       "      <th>0</th>\n",
       "      <td>100</td>\n",
       "      <td>1.026112</td>\n",
       "      <td>0.503097</td>\n",
       "      <td>8.324074</td>\n",
       "      <td>108</td>\n",
       "      <td>0.768519</td>\n",
       "      <td>0.000000</td>\n",
       "      <td>10568.250000</td>\n",
       "      <td>SealedBid</td>\n",
       "      <td>MD</td>\n",
       "    </tr>\n",
       "    <tr>\n",
       "      <th>1</th>\n",
       "      <td>101</td>\n",
       "      <td>1.407666</td>\n",
       "      <td>1.000000</td>\n",
       "      <td>5.571429</td>\n",
       "      <td>7</td>\n",
       "      <td>1.000000</td>\n",
       "      <td>0.000000</td>\n",
       "      <td>4805.617249</td>\n",
       "      <td>EnglishForward</td>\n",
       "      <td>TX</td>\n",
       "    </tr>\n",
       "    <tr>\n",
       "      <th>2</th>\n",
       "      <td>102</td>\n",
       "      <td>0.000000</td>\n",
       "      <td>0.000000</td>\n",
       "      <td>0.000000</td>\n",
       "      <td>2</td>\n",
       "      <td>1.000000</td>\n",
       "      <td>0.000000</td>\n",
       "      <td>3550.000000</td>\n",
       "      <td>SealedBid</td>\n",
       "      <td>MD</td>\n",
       "    </tr>\n",
       "    <tr>\n",
       "      <th>3</th>\n",
       "      <td>103</td>\n",
       "      <td>0.884021</td>\n",
       "      <td>1.000000</td>\n",
       "      <td>1.000000</td>\n",
       "      <td>3</td>\n",
       "      <td>0.333333</td>\n",
       "      <td>0.000000</td>\n",
       "      <td>7693.876790</td>\n",
       "      <td>FixedPrice</td>\n",
       "      <td>NE</td>\n",
       "    </tr>\n",
       "    <tr>\n",
       "      <th>4</th>\n",
       "      <td>104</td>\n",
       "      <td>0.972593</td>\n",
       "      <td>1.000000</td>\n",
       "      <td>4.533333</td>\n",
       "      <td>90</td>\n",
       "      <td>0.611111</td>\n",
       "      <td>0.000000</td>\n",
       "      <td>8661.111111</td>\n",
       "      <td>EnglishForward</td>\n",
       "      <td>NY</td>\n",
       "    </tr>\n",
       "    <tr>\n",
       "      <th>...</th>\n",
       "      <td>...</td>\n",
       "      <td>...</td>\n",
       "      <td>...</td>\n",
       "      <td>...</td>\n",
       "      <td>...</td>\n",
       "      <td>...</td>\n",
       "      <td>...</td>\n",
       "      <td>...</td>\n",
       "      <td>...</td>\n",
       "      <td>...</td>\n",
       "    </tr>\n",
       "    <tr>\n",
       "      <th>6215</th>\n",
       "      <td>6315</td>\n",
       "      <td>1.010807</td>\n",
       "      <td>0.280132</td>\n",
       "      <td>1.571429</td>\n",
       "      <td>115</td>\n",
       "      <td>0.796610</td>\n",
       "      <td>0.998503</td>\n",
       "      <td>15009.730254</td>\n",
       "      <td>EnglishForward</td>\n",
       "      <td>FL</td>\n",
       "    </tr>\n",
       "    <tr>\n",
       "      <th>6216</th>\n",
       "      <td>6316</td>\n",
       "      <td>0.997599</td>\n",
       "      <td>1.000000</td>\n",
       "      <td>1.000000</td>\n",
       "      <td>10</td>\n",
       "      <td>1.000000</td>\n",
       "      <td>0.000000</td>\n",
       "      <td>15296.658008</td>\n",
       "      <td>FixedPrice</td>\n",
       "      <td>FL</td>\n",
       "    </tr>\n",
       "    <tr>\n",
       "      <th>6217</th>\n",
       "      <td>6317</td>\n",
       "      <td>0.942716</td>\n",
       "      <td>0.333875</td>\n",
       "      <td>6.200000</td>\n",
       "      <td>45</td>\n",
       "      <td>0.844444</td>\n",
       "      <td>0.000000</td>\n",
       "      <td>12188.244667</td>\n",
       "      <td>EnglishForward</td>\n",
       "      <td>DE</td>\n",
       "    </tr>\n",
       "    <tr>\n",
       "      <th>6218</th>\n",
       "      <td>6318</td>\n",
       "      <td>1.000787</td>\n",
       "      <td>0.509448</td>\n",
       "      <td>6.758065</td>\n",
       "      <td>62</td>\n",
       "      <td>0.338710</td>\n",
       "      <td>0.000000</td>\n",
       "      <td>14172.611210</td>\n",
       "      <td>EnglishForward</td>\n",
       "      <td>NV</td>\n",
       "    </tr>\n",
       "    <tr>\n",
       "      <th>6219</th>\n",
       "      <td>6319</td>\n",
       "      <td>0.547430</td>\n",
       "      <td>1.000000</td>\n",
       "      <td>0.000000</td>\n",
       "      <td>15</td>\n",
       "      <td>0.133333</td>\n",
       "      <td>0.000000</td>\n",
       "      <td>8549.083333</td>\n",
       "      <td>SealedBid</td>\n",
       "      <td>GA</td>\n",
       "    </tr>\n",
       "  </tbody>\n",
       "</table>\n",
       "<p>6220 rows × 10 columns</p>\n",
       "</div>"
      ],
      "text/plain": [
       "      auction_id       RoR       STR       BPL  lots  product_types  \\\n",
       "0            100  1.026112  0.503097  8.324074   108       0.768519   \n",
       "1            101  1.407666  1.000000  5.571429     7       1.000000   \n",
       "2            102  0.000000  0.000000  0.000000     2       1.000000   \n",
       "3            103  0.884021  1.000000  1.000000     3       0.333333   \n",
       "4            104  0.972593  1.000000  4.533333    90       0.611111   \n",
       "...          ...       ...       ...       ...   ...            ...   \n",
       "6215        6315  1.010807  0.280132  1.571429   115       0.796610   \n",
       "6216        6316  0.997599  1.000000  1.000000    10       1.000000   \n",
       "6217        6317  0.942716  0.333875  6.200000    45       0.844444   \n",
       "6218        6318  1.000787  0.509448  6.758065    62       0.338710   \n",
       "6219        6319  0.547430  1.000000  0.000000    15       0.133333   \n",
       "\n",
       "      avg_start_bid   avg_reserve    auction_mech state  \n",
       "0          0.000000  10568.250000       SealedBid    MD  \n",
       "1          0.000000   4805.617249  EnglishForward    TX  \n",
       "2          0.000000   3550.000000       SealedBid    MD  \n",
       "3          0.000000   7693.876790      FixedPrice    NE  \n",
       "4          0.000000   8661.111111  EnglishForward    NY  \n",
       "...             ...           ...             ...   ...  \n",
       "6215       0.998503  15009.730254  EnglishForward    FL  \n",
       "6216       0.000000  15296.658008      FixedPrice    FL  \n",
       "6217       0.000000  12188.244667  EnglishForward    DE  \n",
       "6218       0.000000  14172.611210  EnglishForward    NV  \n",
       "6219       0.000000   8549.083333       SealedBid    GA  \n",
       "\n",
       "[6220 rows x 10 columns]"
      ]
     },
     "execution_count": 2,
     "metadata": {},
     "output_type": "execute_result"
    }
   ],
   "source": [
    "data = pd.read_csv('auctions.csv')\n",
    "data"
   ]
  },
  {
   "cell_type": "code",
   "execution_count": 3,
   "id": "adb6dc8f",
   "metadata": {},
   "outputs": [
    {
     "data": {
      "text/html": [
       "<div>\n",
       "<style scoped>\n",
       "    .dataframe tbody tr th:only-of-type {\n",
       "        vertical-align: middle;\n",
       "    }\n",
       "\n",
       "    .dataframe tbody tr th {\n",
       "        vertical-align: top;\n",
       "    }\n",
       "\n",
       "    .dataframe thead th {\n",
       "        text-align: right;\n",
       "    }\n",
       "</style>\n",
       "<table border=\"1\" class=\"dataframe\">\n",
       "  <thead>\n",
       "    <tr style=\"text-align: right;\">\n",
       "      <th></th>\n",
       "      <th>auction_id</th>\n",
       "      <th>return_on_reserve</th>\n",
       "      <th>lots_sold</th>\n",
       "      <th>bidders_per_lot</th>\n",
       "      <th>lots</th>\n",
       "      <th>product_types</th>\n",
       "      <th>avg_start_bid</th>\n",
       "      <th>avg_reserve</th>\n",
       "      <th>auction_mech</th>\n",
       "      <th>state</th>\n",
       "    </tr>\n",
       "  </thead>\n",
       "  <tbody>\n",
       "    <tr>\n",
       "      <th>0</th>\n",
       "      <td>100</td>\n",
       "      <td>1.03</td>\n",
       "      <td>0.5</td>\n",
       "      <td>8.32</td>\n",
       "      <td>108</td>\n",
       "      <td>0.77</td>\n",
       "      <td>0.0</td>\n",
       "      <td>10568.25</td>\n",
       "      <td>SealedBid</td>\n",
       "      <td>MD</td>\n",
       "    </tr>\n",
       "    <tr>\n",
       "      <th>1</th>\n",
       "      <td>101</td>\n",
       "      <td>1.41</td>\n",
       "      <td>1.0</td>\n",
       "      <td>5.57</td>\n",
       "      <td>7</td>\n",
       "      <td>1.00</td>\n",
       "      <td>0.0</td>\n",
       "      <td>4805.62</td>\n",
       "      <td>EnglishForward</td>\n",
       "      <td>TX</td>\n",
       "    </tr>\n",
       "    <tr>\n",
       "      <th>2</th>\n",
       "      <td>102</td>\n",
       "      <td>0.00</td>\n",
       "      <td>0.0</td>\n",
       "      <td>0.00</td>\n",
       "      <td>2</td>\n",
       "      <td>1.00</td>\n",
       "      <td>0.0</td>\n",
       "      <td>3550.00</td>\n",
       "      <td>SealedBid</td>\n",
       "      <td>MD</td>\n",
       "    </tr>\n",
       "    <tr>\n",
       "      <th>3</th>\n",
       "      <td>103</td>\n",
       "      <td>0.88</td>\n",
       "      <td>1.0</td>\n",
       "      <td>1.00</td>\n",
       "      <td>3</td>\n",
       "      <td>0.33</td>\n",
       "      <td>0.0</td>\n",
       "      <td>7693.88</td>\n",
       "      <td>FixedPrice</td>\n",
       "      <td>NE</td>\n",
       "    </tr>\n",
       "    <tr>\n",
       "      <th>4</th>\n",
       "      <td>104</td>\n",
       "      <td>0.97</td>\n",
       "      <td>1.0</td>\n",
       "      <td>4.53</td>\n",
       "      <td>90</td>\n",
       "      <td>0.61</td>\n",
       "      <td>0.0</td>\n",
       "      <td>8661.11</td>\n",
       "      <td>EnglishForward</td>\n",
       "      <td>NY</td>\n",
       "    </tr>\n",
       "  </tbody>\n",
       "</table>\n",
       "</div>"
      ],
      "text/plain": [
       "   auction_id  return_on_reserve  lots_sold  bidders_per_lot  lots  \\\n",
       "0         100               1.03        0.5             8.32   108   \n",
       "1         101               1.41        1.0             5.57     7   \n",
       "2         102               0.00        0.0             0.00     2   \n",
       "3         103               0.88        1.0             1.00     3   \n",
       "4         104               0.97        1.0             4.53    90   \n",
       "\n",
       "   product_types  avg_start_bid  avg_reserve    auction_mech state  \n",
       "0           0.77            0.0     10568.25       SealedBid    MD  \n",
       "1           1.00            0.0      4805.62  EnglishForward    TX  \n",
       "2           1.00            0.0      3550.00       SealedBid    MD  \n",
       "3           0.33            0.0      7693.88      FixedPrice    NE  \n",
       "4           0.61            0.0      8661.11  EnglishForward    NY  "
      ]
     },
     "execution_count": 3,
     "metadata": {},
     "output_type": "execute_result"
    }
   ],
   "source": [
    "data.rename(columns = {'RoR': 'return_on_reserve',\n",
    "                      'STR': 'lots_sold',\n",
    "                      'BPL': 'bidders_per_lot'}, inplace = True)\n",
    "data = np.round(data,decimals=2)\n",
    "data.head()"
   ]
  },
  {
   "cell_type": "code",
   "execution_count": 4,
   "id": "e700a1b4",
   "metadata": {},
   "outputs": [
    {
     "name": "stdout",
     "output_type": "stream",
     "text": [
      "<class 'pandas.core.frame.DataFrame'>\n",
      "RangeIndex: 6220 entries, 0 to 6219\n",
      "Data columns (total 10 columns):\n",
      " #   Column             Non-Null Count  Dtype  \n",
      "---  ------             --------------  -----  \n",
      " 0   auction_id         6220 non-null   int64  \n",
      " 1   return_on_reserve  6220 non-null   float64\n",
      " 2   lots_sold          6220 non-null   float64\n",
      " 3   bidders_per_lot    6220 non-null   float64\n",
      " 4   lots               6220 non-null   int64  \n",
      " 5   product_types      6220 non-null   float64\n",
      " 6   avg_start_bid      6220 non-null   float64\n",
      " 7   avg_reserve        6220 non-null   float64\n",
      " 8   auction_mech       6220 non-null   object \n",
      " 9   state              6220 non-null   object \n",
      "dtypes: float64(6), int64(2), object(2)\n",
      "memory usage: 486.1+ KB\n"
     ]
    }
   ],
   "source": [
    "data.info()"
   ]
  },
  {
   "cell_type": "code",
   "execution_count": 5,
   "id": "e3e36e43",
   "metadata": {},
   "outputs": [
    {
     "data": {
      "text/html": [
       "<div>\n",
       "<style scoped>\n",
       "    .dataframe tbody tr th:only-of-type {\n",
       "        vertical-align: middle;\n",
       "    }\n",
       "\n",
       "    .dataframe tbody tr th {\n",
       "        vertical-align: top;\n",
       "    }\n",
       "\n",
       "    .dataframe thead th {\n",
       "        text-align: right;\n",
       "    }\n",
       "</style>\n",
       "<table border=\"1\" class=\"dataframe\">\n",
       "  <thead>\n",
       "    <tr style=\"text-align: right;\">\n",
       "      <th></th>\n",
       "      <th>auction_id</th>\n",
       "      <th>return_on_reserve</th>\n",
       "      <th>lots_sold</th>\n",
       "      <th>bidders_per_lot</th>\n",
       "      <th>lots</th>\n",
       "      <th>product_types</th>\n",
       "      <th>avg_start_bid</th>\n",
       "      <th>avg_reserve</th>\n",
       "    </tr>\n",
       "  </thead>\n",
       "  <tbody>\n",
       "    <tr>\n",
       "      <th>count</th>\n",
       "      <td>6220.000000</td>\n",
       "      <td>6220.000000</td>\n",
       "      <td>6220.000000</td>\n",
       "      <td>6220.000000</td>\n",
       "      <td>6220.000000</td>\n",
       "      <td>6220.000000</td>\n",
       "      <td>6220.000000</td>\n",
       "      <td>6.220000e+03</td>\n",
       "    </tr>\n",
       "    <tr>\n",
       "      <th>mean</th>\n",
       "      <td>3209.500000</td>\n",
       "      <td>0.914957</td>\n",
       "      <td>0.611757</td>\n",
       "      <td>3.753723</td>\n",
       "      <td>38.519775</td>\n",
       "      <td>0.777415</td>\n",
       "      <td>0.147196</td>\n",
       "      <td>1.407759e+04</td>\n",
       "    </tr>\n",
       "    <tr>\n",
       "      <th>std</th>\n",
       "      <td>1795.703669</td>\n",
       "      <td>0.447061</td>\n",
       "      <td>0.348636</td>\n",
       "      <td>2.898882</td>\n",
       "      <td>37.934576</td>\n",
       "      <td>0.207085</td>\n",
       "      <td>0.343180</td>\n",
       "      <td>1.631786e+05</td>\n",
       "    </tr>\n",
       "    <tr>\n",
       "      <th>min</th>\n",
       "      <td>100.000000</td>\n",
       "      <td>0.000000</td>\n",
       "      <td>0.000000</td>\n",
       "      <td>0.000000</td>\n",
       "      <td>1.000000</td>\n",
       "      <td>0.000000</td>\n",
       "      <td>0.000000</td>\n",
       "      <td>2.000000e+02</td>\n",
       "    </tr>\n",
       "    <tr>\n",
       "      <th>25%</th>\n",
       "      <td>1654.750000</td>\n",
       "      <td>0.900000</td>\n",
       "      <td>0.310000</td>\n",
       "      <td>1.000000</td>\n",
       "      <td>9.000000</td>\n",
       "      <td>0.690000</td>\n",
       "      <td>0.000000</td>\n",
       "      <td>7.382247e+03</td>\n",
       "    </tr>\n",
       "    <tr>\n",
       "      <th>50%</th>\n",
       "      <td>3209.500000</td>\n",
       "      <td>1.000000</td>\n",
       "      <td>0.650000</td>\n",
       "      <td>3.210000</td>\n",
       "      <td>27.000000</td>\n",
       "      <td>0.810000</td>\n",
       "      <td>0.000000</td>\n",
       "      <td>1.005908e+04</td>\n",
       "    </tr>\n",
       "    <tr>\n",
       "      <th>75%</th>\n",
       "      <td>4764.250000</td>\n",
       "      <td>1.020000</td>\n",
       "      <td>1.000000</td>\n",
       "      <td>5.770000</td>\n",
       "      <td>55.000000</td>\n",
       "      <td>0.930000</td>\n",
       "      <td>0.000000</td>\n",
       "      <td>1.376381e+04</td>\n",
       "    </tr>\n",
       "    <tr>\n",
       "      <th>max</th>\n",
       "      <td>6319.000000</td>\n",
       "      <td>24.480000</td>\n",
       "      <td>1.000000</td>\n",
       "      <td>20.000000</td>\n",
       "      <td>516.000000</td>\n",
       "      <td>1.000000</td>\n",
       "      <td>1.000000</td>\n",
       "      <td>1.280807e+07</td>\n",
       "    </tr>\n",
       "  </tbody>\n",
       "</table>\n",
       "</div>"
      ],
      "text/plain": [
       "        auction_id  return_on_reserve    lots_sold  bidders_per_lot  \\\n",
       "count  6220.000000        6220.000000  6220.000000      6220.000000   \n",
       "mean   3209.500000           0.914957     0.611757         3.753723   \n",
       "std    1795.703669           0.447061     0.348636         2.898882   \n",
       "min     100.000000           0.000000     0.000000         0.000000   \n",
       "25%    1654.750000           0.900000     0.310000         1.000000   \n",
       "50%    3209.500000           1.000000     0.650000         3.210000   \n",
       "75%    4764.250000           1.020000     1.000000         5.770000   \n",
       "max    6319.000000          24.480000     1.000000        20.000000   \n",
       "\n",
       "              lots  product_types  avg_start_bid   avg_reserve  \n",
       "count  6220.000000    6220.000000    6220.000000  6.220000e+03  \n",
       "mean     38.519775       0.777415       0.147196  1.407759e+04  \n",
       "std      37.934576       0.207085       0.343180  1.631786e+05  \n",
       "min       1.000000       0.000000       0.000000  2.000000e+02  \n",
       "25%       9.000000       0.690000       0.000000  7.382247e+03  \n",
       "50%      27.000000       0.810000       0.000000  1.005908e+04  \n",
       "75%      55.000000       0.930000       0.000000  1.376381e+04  \n",
       "max     516.000000       1.000000       1.000000  1.280807e+07  "
      ]
     },
     "execution_count": 5,
     "metadata": {},
     "output_type": "execute_result"
    }
   ],
   "source": [
    "data.describe()"
   ]
  },
  {
   "cell_type": "code",
   "execution_count": 6,
   "id": "846fec81",
   "metadata": {},
   "outputs": [
    {
     "name": "stdout",
     "output_type": "stream",
     "text": [
      "239593\n"
     ]
    }
   ],
   "source": [
    "# let's get some more information from the Dataframe \n",
    "number_of_lots = data['lots'].sum()   # total number of lots in all the auctions\n",
    "print(number_of_lots)"
   ]
  },
  {
   "cell_type": "code",
   "execution_count": 7,
   "id": "0e2b582b",
   "metadata": {},
   "outputs": [
    {
     "data": {
      "text/plain": [
       "EnglishForward    3228\n",
       "FixedPrice        1568\n",
       "SealedBid         1424\n",
       "Name: auction_mech, dtype: int64"
      ]
     },
     "execution_count": 7,
     "metadata": {},
     "output_type": "execute_result"
    }
   ],
   "source": [
    "# Which is the most popular type of auction?\n",
    "data['auction_mech'].value_counts()"
   ]
  },
  {
   "cell_type": "code",
   "execution_count": 8,
   "id": "f96358f5",
   "metadata": {},
   "outputs": [
    {
     "name": "stdout",
     "output_type": "stream",
     "text": [
      "CA    1292\n",
      "FL     783\n",
      "GA     650\n",
      "TX     481\n",
      "SC     405\n",
      "NV     375\n",
      "MD     326\n",
      "WA     313\n",
      "IN     290\n",
      "DE     288\n",
      "NY     153\n",
      "MA     108\n",
      "NJ      97\n",
      "AZ      92\n",
      "PA      90\n",
      "CO      89\n",
      "MO      77\n",
      "NC      54\n",
      "IA      53\n",
      "OR      46\n",
      "AR      44\n",
      "ID      40\n",
      "NE      33\n",
      "MI      31\n",
      "VT      10\n",
      "Name: state, dtype: int64\n",
      "25\n"
     ]
    }
   ],
   "source": [
    "# Which state has more auctions?\n",
    "print(data['state'].value_counts())\n",
    "print(data['state'].nunique())"
   ]
  },
  {
   "cell_type": "code",
   "execution_count": 9,
   "id": "994755fb",
   "metadata": {},
   "outputs": [
    {
     "data": {
      "text/plain": [
       "auction_mech\n",
       "EnglishForward    0.672038\n",
       "FixedPrice        0.497347\n",
       "SealedBid         0.601088\n",
       "Name: lots_sold, dtype: float64"
      ]
     },
     "execution_count": 9,
     "metadata": {},
     "output_type": "execute_result"
    }
   ],
   "source": [
    "# What is the average percentage of lots sold for type of auction?\n",
    "type_sold = data.groupby('auction_mech')['lots_sold'].mean()\n",
    "type_sold"
   ]
  },
  {
   "cell_type": "code",
   "execution_count": 10,
   "id": "ef2ae68f",
   "metadata": {},
   "outputs": [
    {
     "data": {
      "text/html": [
       "<div>\n",
       "<style scoped>\n",
       "    .dataframe tbody tr th:only-of-type {\n",
       "        vertical-align: middle;\n",
       "    }\n",
       "\n",
       "    .dataframe tbody tr th {\n",
       "        vertical-align: top;\n",
       "    }\n",
       "\n",
       "    .dataframe thead th {\n",
       "        text-align: right;\n",
       "    }\n",
       "</style>\n",
       "<table border=\"1\" class=\"dataframe\">\n",
       "  <thead>\n",
       "    <tr style=\"text-align: right;\">\n",
       "      <th></th>\n",
       "      <th>auction_id</th>\n",
       "      <th>return_on_reserve</th>\n",
       "      <th>lots_sold</th>\n",
       "      <th>bidders_per_lot</th>\n",
       "      <th>lots</th>\n",
       "      <th>product_types</th>\n",
       "      <th>avg_start_bid</th>\n",
       "      <th>avg_reserve</th>\n",
       "    </tr>\n",
       "    <tr>\n",
       "      <th>auction_mech</th>\n",
       "      <th></th>\n",
       "      <th></th>\n",
       "      <th></th>\n",
       "      <th></th>\n",
       "      <th></th>\n",
       "      <th></th>\n",
       "      <th></th>\n",
       "      <th></th>\n",
       "    </tr>\n",
       "  </thead>\n",
       "  <tbody>\n",
       "    <tr>\n",
       "      <th>EnglishForward</th>\n",
       "      <td>3195.436803</td>\n",
       "      <td>0.960963</td>\n",
       "      <td>0.672038</td>\n",
       "      <td>4.652989</td>\n",
       "      <td>45.679368</td>\n",
       "      <td>0.766834</td>\n",
       "      <td>0.283631</td>\n",
       "      <td>16550.860022</td>\n",
       "    </tr>\n",
       "    <tr>\n",
       "      <th>FixedPrice</th>\n",
       "      <td>3189.374362</td>\n",
       "      <td>0.879241</td>\n",
       "      <td>0.497347</td>\n",
       "      <td>0.898393</td>\n",
       "      <td>19.327806</td>\n",
       "      <td>0.823648</td>\n",
       "      <td>0.000000</td>\n",
       "      <td>11113.536964</td>\n",
       "    </tr>\n",
       "    <tr>\n",
       "      <th>SealedBid</th>\n",
       "      <td>3263.540028</td>\n",
       "      <td>0.849993</td>\n",
       "      <td>0.601088</td>\n",
       "      <td>4.859291</td>\n",
       "      <td>43.422753</td>\n",
       "      <td>0.750492</td>\n",
       "      <td>0.000000</td>\n",
       "      <td>11734.855169</td>\n",
       "    </tr>\n",
       "  </tbody>\n",
       "</table>\n",
       "</div>"
      ],
      "text/plain": [
       "                 auction_id  return_on_reserve  lots_sold  bidders_per_lot  \\\n",
       "auction_mech                                                                 \n",
       "EnglishForward  3195.436803           0.960963   0.672038         4.652989   \n",
       "FixedPrice      3189.374362           0.879241   0.497347         0.898393   \n",
       "SealedBid       3263.540028           0.849993   0.601088         4.859291   \n",
       "\n",
       "                     lots  product_types  avg_start_bid   avg_reserve  \n",
       "auction_mech                                                           \n",
       "EnglishForward  45.679368       0.766834       0.283631  16550.860022  \n",
       "FixedPrice      19.327806       0.823648       0.000000  11113.536964  \n",
       "SealedBid       43.422753       0.750492       0.000000  11734.855169  "
      ]
     },
     "execution_count": 10,
     "metadata": {},
     "output_type": "execute_result"
    }
   ],
   "source": [
    "# What is the average number of lots sold for type of auction?\n",
    "data.groupby('auction_mech').mean()"
   ]
  },
  {
   "cell_type": "code",
   "execution_count": 11,
   "id": "fe8af60f",
   "metadata": {},
   "outputs": [
    {
     "name": "stdout",
     "output_type": "stream",
     "text": [
      "Top 5 most positively correlated features:\n",
      "lots_sold            1.000000\n",
      "bidders_per_lot      0.353722\n",
      "return_on_reserve    0.324387\n",
      "product_types        0.022932\n",
      "auction_id           0.004129\n",
      "Name: lots_sold, dtype: float64\n",
      "\n",
      "Top 3 most negatively correlated features:\n",
      "avg_start_bid   -0.299525\n",
      "lots            -0.147598\n",
      "auction_id       0.004129\n",
      "Name: lots_sold, dtype: float64\n",
      "\n"
     ]
    }
   ],
   "source": [
    "#finding the three most important features with the target variable lots_sold through pearson correlation\n",
    "\n",
    "correlations = data.corr(method='pearson')['lots_sold'][:-1].sort_values(ascending=False)\n",
    "\n",
    "print('Top 5 most positively correlated features:\\n{}\\n'.format(correlations[:5]))\n",
    "print('Top 3 most negatively correlated features:\\n{}\\n'.format(correlations[:-4:-1]))"
   ]
  },
  {
   "cell_type": "code",
   "execution_count": 12,
   "id": "3a25ff0b",
   "metadata": {},
   "outputs": [
    {
     "data": {
      "text/html": [
       "<div>\n",
       "<style scoped>\n",
       "    .dataframe tbody tr th:only-of-type {\n",
       "        vertical-align: middle;\n",
       "    }\n",
       "\n",
       "    .dataframe tbody tr th {\n",
       "        vertical-align: top;\n",
       "    }\n",
       "\n",
       "    .dataframe thead th {\n",
       "        text-align: right;\n",
       "    }\n",
       "</style>\n",
       "<table border=\"1\" class=\"dataframe\">\n",
       "  <thead>\n",
       "    <tr style=\"text-align: right;\">\n",
       "      <th></th>\n",
       "      <th>auction_id</th>\n",
       "      <th>return_on_reserve</th>\n",
       "      <th>lots_sold</th>\n",
       "      <th>bidders_per_lot</th>\n",
       "      <th>lots</th>\n",
       "      <th>product_types</th>\n",
       "      <th>avg_start_bid</th>\n",
       "      <th>avg_reserve</th>\n",
       "    </tr>\n",
       "  </thead>\n",
       "  <tbody>\n",
       "    <tr>\n",
       "      <th>auction_id</th>\n",
       "      <td>1.000000</td>\n",
       "      <td>-0.037543</td>\n",
       "      <td>0.004129</td>\n",
       "      <td>0.006306</td>\n",
       "      <td>-0.020555</td>\n",
       "      <td>0.026288</td>\n",
       "      <td>-0.044984</td>\n",
       "      <td>0.003715</td>\n",
       "    </tr>\n",
       "    <tr>\n",
       "      <th>return_on_reserve</th>\n",
       "      <td>-0.037543</td>\n",
       "      <td>1.000000</td>\n",
       "      <td>0.324387</td>\n",
       "      <td>0.257786</td>\n",
       "      <td>0.140606</td>\n",
       "      <td>-0.048726</td>\n",
       "      <td>0.071658</td>\n",
       "      <td>-0.003666</td>\n",
       "    </tr>\n",
       "    <tr>\n",
       "      <th>lots_sold</th>\n",
       "      <td>0.004129</td>\n",
       "      <td>0.324387</td>\n",
       "      <td>1.000000</td>\n",
       "      <td>0.353722</td>\n",
       "      <td>-0.147598</td>\n",
       "      <td>0.022932</td>\n",
       "      <td>-0.299525</td>\n",
       "      <td>-0.024819</td>\n",
       "    </tr>\n",
       "    <tr>\n",
       "      <th>bidders_per_lot</th>\n",
       "      <td>0.006306</td>\n",
       "      <td>0.257786</td>\n",
       "      <td>0.353722</td>\n",
       "      <td>1.000000</td>\n",
       "      <td>0.241507</td>\n",
       "      <td>-0.068465</td>\n",
       "      <td>-0.204465</td>\n",
       "      <td>-0.015015</td>\n",
       "    </tr>\n",
       "    <tr>\n",
       "      <th>lots</th>\n",
       "      <td>-0.020555</td>\n",
       "      <td>0.140606</td>\n",
       "      <td>-0.147598</td>\n",
       "      <td>0.241507</td>\n",
       "      <td>1.000000</td>\n",
       "      <td>-0.350416</td>\n",
       "      <td>0.377427</td>\n",
       "      <td>0.016265</td>\n",
       "    </tr>\n",
       "    <tr>\n",
       "      <th>product_types</th>\n",
       "      <td>0.026288</td>\n",
       "      <td>-0.048726</td>\n",
       "      <td>0.022932</td>\n",
       "      <td>-0.068465</td>\n",
       "      <td>-0.350416</td>\n",
       "      <td>1.000000</td>\n",
       "      <td>-0.015723</td>\n",
       "      <td>0.012568</td>\n",
       "    </tr>\n",
       "    <tr>\n",
       "      <th>avg_start_bid</th>\n",
       "      <td>-0.044984</td>\n",
       "      <td>0.071658</td>\n",
       "      <td>-0.299525</td>\n",
       "      <td>-0.204465</td>\n",
       "      <td>0.377427</td>\n",
       "      <td>-0.015723</td>\n",
       "      <td>1.000000</td>\n",
       "      <td>0.042403</td>\n",
       "    </tr>\n",
       "    <tr>\n",
       "      <th>avg_reserve</th>\n",
       "      <td>0.003715</td>\n",
       "      <td>-0.003666</td>\n",
       "      <td>-0.024819</td>\n",
       "      <td>-0.015015</td>\n",
       "      <td>0.016265</td>\n",
       "      <td>0.012568</td>\n",
       "      <td>0.042403</td>\n",
       "      <td>1.000000</td>\n",
       "    </tr>\n",
       "  </tbody>\n",
       "</table>\n",
       "</div>"
      ],
      "text/plain": [
       "                   auction_id  return_on_reserve  lots_sold  bidders_per_lot  \\\n",
       "auction_id           1.000000          -0.037543   0.004129         0.006306   \n",
       "return_on_reserve   -0.037543           1.000000   0.324387         0.257786   \n",
       "lots_sold            0.004129           0.324387   1.000000         0.353722   \n",
       "bidders_per_lot      0.006306           0.257786   0.353722         1.000000   \n",
       "lots                -0.020555           0.140606  -0.147598         0.241507   \n",
       "product_types        0.026288          -0.048726   0.022932        -0.068465   \n",
       "avg_start_bid       -0.044984           0.071658  -0.299525        -0.204465   \n",
       "avg_reserve          0.003715          -0.003666  -0.024819        -0.015015   \n",
       "\n",
       "                       lots  product_types  avg_start_bid  avg_reserve  \n",
       "auction_id        -0.020555       0.026288      -0.044984     0.003715  \n",
       "return_on_reserve  0.140606      -0.048726       0.071658    -0.003666  \n",
       "lots_sold         -0.147598       0.022932      -0.299525    -0.024819  \n",
       "bidders_per_lot    0.241507      -0.068465      -0.204465    -0.015015  \n",
       "lots               1.000000      -0.350416       0.377427     0.016265  \n",
       "product_types     -0.350416       1.000000      -0.015723     0.012568  \n",
       "avg_start_bid      0.377427      -0.015723       1.000000     0.042403  \n",
       "avg_reserve        0.016265       0.012568       0.042403     1.000000  "
      ]
     },
     "execution_count": 12,
     "metadata": {},
     "output_type": "execute_result"
    }
   ],
   "source": [
    "data.corr()"
   ]
  },
  {
   "cell_type": "code",
   "execution_count": 15,
   "id": "d2fa8f59",
   "metadata": {},
   "outputs": [
    {
     "data": {
      "image/png": "[encoded data removed]",
      "text/plain": [
       "<Figure size 640x640 with 2 Axes>"
      ]
     },
     "metadata": {},
     "output_type": "display_data"
    }
   ],
   "source": [
    "corr = data.corr()\n",
    "plt.figure(num=None, figsize=(8, 8), dpi=80, facecolor='w', edgecolor='r')\n",
    "corrMat = plt.matshow(corr, fignum = 1, cmap=plt.get_cmap('Greens'))\n",
    "plt.xticks(range(len(corr.columns)), corr.columns, rotation=90)\n",
    "plt.yticks(range(len(corr.columns)), corr.columns)\n",
    "plt.gca().xaxis.tick_bottom()\n",
    "plt.colorbar(corrMat)\n",
    "plt.title('Correlation Matrix for Auctions 2019', fontsize=15)\n",
    "plt.show()"
   ]
  },
  {
   "cell_type": "code",
   "execution_count": 16,
   "id": "2944e938",
   "metadata": {},
   "outputs": [
    {
     "data": {
      "text/plain": [
       "Text(0.5, 1.0, 'Number of auctions per State')"
      ]
     },
     "execution_count": 16,
     "metadata": {},
     "output_type": "execute_result"
    },
    {
     "data": {
      "image/png": "[encoded data removed]",
      "text/plain": [
       "<Figure size 432x288 with 1 Axes>"
      ]
     },
     "metadata": {},
     "output_type": "display_data"
    }
   ],
   "source": [
    "#histogram with the number of auctions per city\n",
    "plt.style.use('seaborn-whitegrid')\n",
    "fig_3 = data['state'].value_counts().plot(kind = 'bar', color = ['c','y','r', 'g', 'orange']);\n",
    "plt.xlabel('State')\n",
    "plt.ylabel('Number of auctions')\n",
    "plt.title('Number of auctions per State', fontsize = 20)"
   ]
  },
  {
   "cell_type": "code",
   "execution_count": 17,
   "id": "50c4db7d",
   "metadata": {},
   "outputs": [
    {
     "data": {
      "text/plain": [
       "Text(0.5, 1.0, 'State and percentage of lots sold')"
      ]
     },
     "execution_count": 17,
     "metadata": {},
     "output_type": "execute_result"
    },
    {
     "data": {
      "image/png": "[encoded data removed]",
      "text/plain": [
       "<Figure size 432x288 with 1 Axes>"
      ]
     },
     "metadata": {},
     "output_type": "display_data"
    }
   ],
   "source": [
    "fig_4 = data.groupby('state')['lots_sold'].mean().plot(kind = 'bar', color = ['c','y','r', 'g', 'orange']);\n",
    "\n",
    "plt.xlabel('State')\n",
    "plt.ylabel('Percentage of lots sold')\n",
    "plt.title('State and percentage of lots sold', fontsize = 20)"
   ]
  },
  {
   "cell_type": "code",
   "execution_count": 18,
   "id": "03fc77fa",
   "metadata": {},
   "outputs": [
    {
     "data": {
      "text/plain": [
       "Text(0.5, 1.0, 'Type and number of auctions')"
      ]
     },
     "execution_count": 18,
     "metadata": {},
     "output_type": "execute_result"
    },
    {
     "data": {
      "image/png": "[encoded data removed]",
      "text/plain": [
       "<Figure size 432x288 with 1 Axes>"
      ]
     },
     "metadata": {},
     "output_type": "display_data"
    }
   ],
   "source": [
    "#plot the number of auctions per type of auction with a histogram\n",
    "fig_1 = data['auction_mech'].value_counts().plot(kind = 'bar', color = ['c','y','r']);\n",
    "\n",
    "plt.xlabel('Type of auction')\n",
    "plt.ylabel('Number of auctions')\n",
    "plt.title('Type and number of auctions', fontsize = 20)"
   ]
  },
  {
   "cell_type": "code",
   "execution_count": 19,
   "id": "d957f047",
   "metadata": {},
   "outputs": [
    {
     "data": {
      "text/plain": [
       "Text(0.5, 1.0, 'Auction type and percentage of lots sold')"
      ]
     },
     "execution_count": 19,
     "metadata": {},
     "output_type": "execute_result"
    },
    {
     "data": {
      "image/png": "[encoded data removed]",
      "text/plain": [
       "<Figure size 432x288 with 1 Axes>"
      ]
     },
     "metadata": {},
     "output_type": "display_data"
    }
   ],
   "source": [
    "fig_2 = data.groupby('auction_mech')['lots_sold'].mean().plot(kind = 'bar', color = ['c','y','r']);\n",
    "\n",
    "plt.xlabel('Type of auction')\n",
    "plt.ylabel('Percentage of lots sold')\n",
    "plt.title('Auction type and percentage of lots sold', fontsize = 20)"
   ]
  },
  {
   "cell_type": "code",
   "execution_count": 20,
   "id": "c1ed9f81",
   "metadata": {},
   "outputs": [
    {
     "data": {
      "text/plain": [
       "EnglishForward    0.179610\n",
       "FixedPrice       -0.190538\n",
       "SealedBid        -0.016676\n",
       "dtype: float64"
      ]
     },
     "execution_count": 20,
     "metadata": {},
     "output_type": "execute_result"
    }
   ],
   "source": [
    "s_corr = data.auction_mech.str.get_dummies().corrwith(data.lots_sold)\n",
    "s_corr"
   ]
  },
  {
   "cell_type": "code",
   "execution_count": 21,
   "id": "3e6f2323",
   "metadata": {},
   "outputs": [
    {
     "data": {
      "text/plain": [
       "EnglishForward    0.106900\n",
       "FixedPrice       -0.046385\n",
       "SealedBid        -0.079187\n",
       "dtype: float64"
      ]
     },
     "execution_count": 21,
     "metadata": {},
     "output_type": "execute_result"
    }
   ],
   "source": [
    "s_corr = data.auction_mech.str.get_dummies().corrwith(data.return_on_reserve)\n",
    "s_corr"
   ]
  },
  {
   "cell_type": "code",
   "execution_count": 22,
   "id": "5cdf3ab8",
   "metadata": {},
   "outputs": [
    {
     "data": {
      "text/plain": [
       "EnglishForward    0.322239\n",
       "FixedPrice       -0.571892\n",
       "SealedBid         0.207828\n",
       "dtype: float64"
      ]
     },
     "execution_count": 22,
     "metadata": {},
     "output_type": "execute_result"
    }
   ],
   "source": [
    "s_corr = data.auction_mech.str.get_dummies().corrwith(data.bidders_per_lot)\n",
    "s_corr"
   ]
  }
 ],
 "metadata": {
  "kernelspec": {
   "display_name": "Python 3",
   "language": "python",
   "name": "python3"
  },
  "language_info": {
   "codemirror_mode": {
    "name": "ipython",
    "version": 3
   },
   "file_extension": ".py",
   "mimetype": "text/x-python",
   "name": "python",
   "nbconvert_exporter": "python",
   "pygments_lexer": "ipython3",
   "version": "3.8.8"
  }
 },
 "nbformat": 4,
 "nbformat_minor": 5
}
